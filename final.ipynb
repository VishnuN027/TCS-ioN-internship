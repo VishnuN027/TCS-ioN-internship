{
 "cells": [
  {
   "cell_type": "code",
   "execution_count": 1,
   "id": "e8abe63b",
   "metadata": {},
   "outputs": [],
   "source": [
    "import numpy as np\n",
    "import pandas as pd\n",
    "import seaborn as sns\n",
    "import matplotlib.pyplot as plt\n",
    "\n",
    "import warnings\n",
    "warnings.filterwarnings(\"ignore\") "
   ]
  },
  {
   "cell_type": "code",
   "execution_count": 2,
   "id": "a8986038",
   "metadata": {},
   "outputs": [
    {
     "data": {
      "text/html": [
       "<div>\n",
       "<style scoped>\n",
       "    .dataframe tbody tr th:only-of-type {\n",
       "        vertical-align: middle;\n",
       "    }\n",
       "\n",
       "    .dataframe tbody tr th {\n",
       "        vertical-align: top;\n",
       "    }\n",
       "\n",
       "    .dataframe thead th {\n",
       "        text-align: right;\n",
       "    }\n",
       "</style>\n",
       "<table border=\"1\" class=\"dataframe\">\n",
       "  <thead>\n",
       "    <tr style=\"text-align: right;\">\n",
       "      <th></th>\n",
       "      <th>NAME</th>\n",
       "      <th>GENDER</th>\n",
       "      <th>DRUG_NAME</th>\n",
       "      <th>AGE</th>\n",
       "      <th>RACE</th>\n",
       "      <th>SIDE_EFFECTS</th>\n",
       "    </tr>\n",
       "  </thead>\n",
       "  <tbody>\n",
       "    <tr>\n",
       "      <th>0</th>\n",
       "      <td>Aaban</td>\n",
       "      <td>M</td>\n",
       "      <td>topamax</td>\n",
       "      <td>41.0</td>\n",
       "      <td>White</td>\n",
       "      <td>Mild Side Effects</td>\n",
       "    </tr>\n",
       "    <tr>\n",
       "      <th>1</th>\n",
       "      <td>Aaban</td>\n",
       "      <td>M</td>\n",
       "      <td>zocor</td>\n",
       "      <td>53.0</td>\n",
       "      <td>Hispanic, White</td>\n",
       "      <td>Extremely Severe Side Effects</td>\n",
       "    </tr>\n",
       "    <tr>\n",
       "      <th>2</th>\n",
       "      <td>Aabha</td>\n",
       "      <td>F</td>\n",
       "      <td>tazorac</td>\n",
       "      <td>31.0</td>\n",
       "      <td>White</td>\n",
       "      <td>Mild Side Effects</td>\n",
       "    </tr>\n",
       "    <tr>\n",
       "      <th>3</th>\n",
       "      <td>Aabha</td>\n",
       "      <td>F</td>\n",
       "      <td>voltaren</td>\n",
       "      <td>44.0</td>\n",
       "      <td>White</td>\n",
       "      <td>Severe Side Effects</td>\n",
       "    </tr>\n",
       "    <tr>\n",
       "      <th>4</th>\n",
       "      <td>Aabid</td>\n",
       "      <td>M</td>\n",
       "      <td>tramadol</td>\n",
       "      <td>24.0</td>\n",
       "      <td>White</td>\n",
       "      <td>No Side Effects</td>\n",
       "    </tr>\n",
       "    <tr>\n",
       "      <th>...</th>\n",
       "      <td>...</td>\n",
       "      <td>...</td>\n",
       "      <td>...</td>\n",
       "      <td>...</td>\n",
       "      <td>...</td>\n",
       "      <td>...</td>\n",
       "    </tr>\n",
       "    <tr>\n",
       "      <th>399995</th>\n",
       "      <td>TRUE</td>\n",
       "      <td>M</td>\n",
       "      <td>lamisil</td>\n",
       "      <td>50.0</td>\n",
       "      <td>White</td>\n",
       "      <td>Severe Side Effects</td>\n",
       "    </tr>\n",
       "    <tr>\n",
       "      <th>399996</th>\n",
       "      <td>TRUE</td>\n",
       "      <td>M</td>\n",
       "      <td>klaron</td>\n",
       "      <td>55.0</td>\n",
       "      <td>Hispanic, White</td>\n",
       "      <td>No Side Effects</td>\n",
       "    </tr>\n",
       "    <tr>\n",
       "      <th>399997</th>\n",
       "      <td>TRUE</td>\n",
       "      <td>M</td>\n",
       "      <td>celexa</td>\n",
       "      <td>57.0</td>\n",
       "      <td>Other</td>\n",
       "      <td>Severe Side Effects</td>\n",
       "    </tr>\n",
       "    <tr>\n",
       "      <th>399998</th>\n",
       "      <td>TRUE</td>\n",
       "      <td>F</td>\n",
       "      <td>zoloft</td>\n",
       "      <td>59.0</td>\n",
       "      <td>White</td>\n",
       "      <td>No Side Effects</td>\n",
       "    </tr>\n",
       "    <tr>\n",
       "      <th>399999</th>\n",
       "      <td>TRUE</td>\n",
       "      <td>M</td>\n",
       "      <td>prilosec</td>\n",
       "      <td>65.0</td>\n",
       "      <td>White</td>\n",
       "      <td>Mild Side Effects</td>\n",
       "    </tr>\n",
       "  </tbody>\n",
       "</table>\n",
       "<p>400000 rows × 6 columns</p>\n",
       "</div>"
      ],
      "text/plain": [
       "         NAME GENDER DRUG_NAME   AGE             RACE  \\\n",
       "0       Aaban      M   topamax  41.0            White   \n",
       "1       Aaban      M     zocor  53.0  Hispanic, White   \n",
       "2       Aabha      F   tazorac  31.0            White   \n",
       "3       Aabha      F  voltaren  44.0            White   \n",
       "4       Aabid      M  tramadol  24.0            White   \n",
       "...       ...    ...       ...   ...              ...   \n",
       "399995   TRUE      M   lamisil  50.0            White   \n",
       "399996   TRUE      M    klaron  55.0  Hispanic, White   \n",
       "399997   TRUE      M    celexa  57.0            Other   \n",
       "399998   TRUE      F    zoloft  59.0            White   \n",
       "399999   TRUE      M  prilosec  65.0            White   \n",
       "\n",
       "                         SIDE_EFFECTS  \n",
       "0                   Mild Side Effects  \n",
       "1       Extremely Severe Side Effects  \n",
       "2                   Mild Side Effects  \n",
       "3                 Severe Side Effects  \n",
       "4                     No Side Effects  \n",
       "...                               ...  \n",
       "399995            Severe Side Effects  \n",
       "399996                No Side Effects  \n",
       "399997            Severe Side Effects  \n",
       "399998                No Side Effects  \n",
       "399999              Mild Side Effects  \n",
       "\n",
       "[400000 rows x 6 columns]"
      ]
     },
     "execution_count": 2,
     "metadata": {},
     "output_type": "execute_result"
    }
   ],
   "source": [
    "df = pd.read_csv('DRUG BATCH SIDE EFFECTS DATASET 0.1.csv')\n",
    "df"
   ]
  },
  {
   "cell_type": "markdown",
   "id": "9ac30995",
   "metadata": {},
   "source": [
    "# handling missing values\n"
   ]
  },
  {
   "cell_type": "code",
   "execution_count": 3,
   "id": "2f711e60",
   "metadata": {},
   "outputs": [
    {
     "data": {
      "text/plain": [
       "NAME             0\n",
       "GENDER           0\n",
       "DRUG_NAME        0\n",
       "AGE             20\n",
       "RACE             0\n",
       "SIDE_EFFECTS     0\n",
       "dtype: int64"
      ]
     },
     "execution_count": 3,
     "metadata": {},
     "output_type": "execute_result"
    }
   ],
   "source": [
    "#checking for missing values\n",
    "df.isna().sum()"
   ]
  },
  {
   "cell_type": "code",
   "execution_count": 4,
   "id": "f7a918ed",
   "metadata": {},
   "outputs": [
    {
     "data": {
      "text/plain": [
       "NAME             object\n",
       "GENDER           object\n",
       "DRUG_NAME        object\n",
       "AGE             float64\n",
       "RACE             object\n",
       "SIDE_EFFECTS     object\n",
       "dtype: object"
      ]
     },
     "execution_count": 4,
     "metadata": {},
     "output_type": "execute_result"
    }
   ],
   "source": [
    "df.dtypes\n"
   ]
  },
  {
   "cell_type": "code",
   "execution_count": 5,
   "id": "7bc6981d",
   "metadata": {},
   "outputs": [
    {
     "data": {
      "image/png": "[encoded data removed]",
      "text/plain": [
       "<Figure size 1440x1080 with 1 Axes>"
      ]
     },
     "metadata": {
      "needs_background": "light"
     },
     "output_type": "display_data"
    }
   ],
   "source": [
    "freqgraph = df.select_dtypes(include=['float'])     \n",
    "freqgraph.hist(figsize=(20,15))\n",
    "plt.show()"
   ]
  },
  {
   "cell_type": "code",
   "execution_count": 6,
   "id": "4b3568ea",
   "metadata": {},
   "outputs": [
    {
     "data": {
      "text/plain": [
       "NAME            0\n",
       "GENDER          0\n",
       "DRUG_NAME       0\n",
       "AGE             0\n",
       "RACE            0\n",
       "SIDE_EFFECTS    0\n",
       "dtype: int64"
      ]
     },
     "execution_count": 6,
     "metadata": {},
     "output_type": "execute_result"
    }
   ],
   "source": [
    "df['AGE'] = df['AGE'].fillna(df['AGE'].median())\n",
    "df.isna().sum()"
   ]
  },
  {
   "cell_type": "markdown",
   "id": "fae30dba",
   "metadata": {},
   "source": [
    "## All missing values are filled\n"
   ]
  },
  {
   "cell_type": "code",
   "execution_count": null,
   "id": "f55b1f22",
   "metadata": {},
   "outputs": [],
   "source": []
  },
  {
   "cell_type": "markdown",
   "id": "42b27971",
   "metadata": {},
   "source": [
    " # outlier detection\n"
   ]
  },
  {
   "cell_type": "code",
   "execution_count": 7,
   "id": "624228a2",
   "metadata": {},
   "outputs": [
    {
     "data": {
      "image/png": "[encoded data removed]",
      "text/plain": [
       "<Figure size 432x288 with 1 Axes>"
      ]
     },
     "metadata": {
      "needs_background": "light"
     },
     "output_type": "display_data"
    }
   ],
   "source": [
    "for i in ['AGE']:\n",
    "    plt.figure()\n",
    "    plt.boxplot(df[i])\n",
    "    plt.title(i)"
   ]
  },
  {
   "cell_type": "code",
   "execution_count": 8,
   "id": "e7cca1ed",
   "metadata": {},
   "outputs": [],
   "source": [
    "Q1 = np.percentile(df['AGE'], 25, interpolation = 'midpoint')  \n",
    "Q2 = np.percentile(df['AGE'], 50, interpolation = 'midpoint')  \n",
    "Q3 = np.percentile(df['AGE'], 75, interpolation = 'midpoint')\n",
    "IQR = Q3 - Q1\n",
    "low_lim = Q1 - 1.5 * IQR \n",
    "up_lim = Q3 + 1.5 * IQR\n"
   ]
  },
  {
   "cell_type": "code",
   "execution_count": 9,
   "id": "78b3ff2b",
   "metadata": {},
   "outputs": [
    {
     "name": "stdout",
     "output_type": "stream",
     "text": [
      "1.0\n",
      "81.0\n"
     ]
    }
   ],
   "source": [
    "print(low_lim)\n",
    "print(up_lim)\n"
   ]
  },
  {
   "cell_type": "code",
   "execution_count": 10,
   "id": "8c8ddefd",
   "metadata": {},
   "outputs": [],
   "source": [
    "    df['AGE'].where(df['AGE'] >=low_lim,low_lim, inplace=True)  #replacing all lower outliers with lower limit\n",
    "    df['AGE'].where(df['AGE'] <=up_lim,up_lim, inplace=True)  #replacing all upper outliers w "
   ]
  },
  {
   "cell_type": "code",
   "execution_count": 11,
   "id": "116bf6f1",
   "metadata": {},
   "outputs": [
    {
     "data": {
      "text/plain": [
       "{'whiskers': [<matplotlib.lines.Line2D at 0x27111616640>,\n",
       "  <matplotlib.lines.Line2D at 0x271116168b0>],\n",
       " 'caps': [<matplotlib.lines.Line2D at 0x27111616c40>,\n",
       "  <matplotlib.lines.Line2D at 0x27111616fd0>],\n",
       " 'boxes': [<matplotlib.lines.Line2D at 0x271116162b0>],\n",
       " 'medians': [<matplotlib.lines.Line2D at 0x271116223a0>],\n",
       " 'fliers': [<matplotlib.lines.Line2D at 0x27111622730>],\n",
       " 'means': []}"
      ]
     },
     "execution_count": 11,
     "metadata": {},
     "output_type": "execute_result"
    },
    {
     "data": {
      "image/png": "[encoded data removed]",
      "text/plain": [
       "<Figure size 432x288 with 1 Axes>"
      ]
     },
     "metadata": {
      "needs_background": "light"
     },
     "output_type": "display_data"
    }
   ],
   "source": [
    "plt.boxplot(df['AGE'])\n"
   ]
  },
  {
   "cell_type": "markdown",
   "id": "7c8ecb86",
   "metadata": {},
   "source": [
    " ## outlier detection clear\n"
   ]
  },
  {
   "cell_type": "code",
   "execution_count": 12,
   "id": "61b11f56",
   "metadata": {},
   "outputs": [],
   "source": [
    "#removing the unnecessary columns\n",
    "df.drop(columns=['NAME'],inplace=True)"
   ]
  },
  {
   "cell_type": "code",
   "execution_count": 13,
   "id": "946dd717",
   "metadata": {},
   "outputs": [
    {
     "data": {
      "text/html": [
       "<div>\n",
       "<style scoped>\n",
       "    .dataframe tbody tr th:only-of-type {\n",
       "        vertical-align: middle;\n",
       "    }\n",
       "\n",
       "    .dataframe tbody tr th {\n",
       "        vertical-align: top;\n",
       "    }\n",
       "\n",
       "    .dataframe thead th {\n",
       "        text-align: right;\n",
       "    }\n",
       "</style>\n",
       "<table border=\"1\" class=\"dataframe\">\n",
       "  <thead>\n",
       "    <tr style=\"text-align: right;\">\n",
       "      <th></th>\n",
       "      <th>GENDER</th>\n",
       "      <th>DRUG_NAME</th>\n",
       "      <th>AGE</th>\n",
       "      <th>RACE</th>\n",
       "      <th>SIDE_EFFECTS</th>\n",
       "    </tr>\n",
       "  </thead>\n",
       "  <tbody>\n",
       "    <tr>\n",
       "      <th>0</th>\n",
       "      <td>M</td>\n",
       "      <td>topamax</td>\n",
       "      <td>41.0</td>\n",
       "      <td>White</td>\n",
       "      <td>Mild Side Effects</td>\n",
       "    </tr>\n",
       "    <tr>\n",
       "      <th>1</th>\n",
       "      <td>M</td>\n",
       "      <td>zocor</td>\n",
       "      <td>53.0</td>\n",
       "      <td>Hispanic, White</td>\n",
       "      <td>Extremely Severe Side Effects</td>\n",
       "    </tr>\n",
       "    <tr>\n",
       "      <th>2</th>\n",
       "      <td>F</td>\n",
       "      <td>tazorac</td>\n",
       "      <td>31.0</td>\n",
       "      <td>White</td>\n",
       "      <td>Mild Side Effects</td>\n",
       "    </tr>\n",
       "    <tr>\n",
       "      <th>3</th>\n",
       "      <td>F</td>\n",
       "      <td>voltaren</td>\n",
       "      <td>44.0</td>\n",
       "      <td>White</td>\n",
       "      <td>Severe Side Effects</td>\n",
       "    </tr>\n",
       "    <tr>\n",
       "      <th>4</th>\n",
       "      <td>M</td>\n",
       "      <td>tramadol</td>\n",
       "      <td>24.0</td>\n",
       "      <td>White</td>\n",
       "      <td>No Side Effects</td>\n",
       "    </tr>\n",
       "  </tbody>\n",
       "</table>\n",
       "</div>"
      ],
      "text/plain": [
       "  GENDER DRUG_NAME   AGE             RACE                   SIDE_EFFECTS\n",
       "0      M   topamax  41.0            White              Mild Side Effects\n",
       "1      M     zocor  53.0  Hispanic, White  Extremely Severe Side Effects\n",
       "2      F   tazorac  31.0            White              Mild Side Effects\n",
       "3      F  voltaren  44.0            White            Severe Side Effects\n",
       "4      M  tramadol  24.0            White                No Side Effects"
      ]
     },
     "execution_count": 13,
     "metadata": {},
     "output_type": "execute_result"
    }
   ],
   "source": [
    "df.head()"
   ]
  },
  {
   "cell_type": "code",
   "execution_count": 14,
   "id": "a97bb270",
   "metadata": {},
   "outputs": [
    {
     "name": "stdout",
     "output_type": "stream",
     "text": [
      "GENDER  : 2\n",
      "DRUG_NAME  : 502\n",
      "AGE  : 64\n",
      "RACE  : 9\n",
      "SIDE_EFFECTS  : 5\n"
     ]
    }
   ],
   "source": [
    "# finding the number of unique values associated with each column\n",
    "for i in df.columns:\n",
    "    print(i,\" :\",df[i].nunique())"
   ]
  },
  {
   "cell_type": "markdown",
   "id": "11927842",
   "metadata": {},
   "source": [
    "# encoding\n"
   ]
  },
  {
   "cell_type": "code",
   "execution_count": 15,
   "id": "17ce44bf",
   "metadata": {},
   "outputs": [],
   "source": [
    "from sklearn.preprocessing import LabelEncoder\n",
    "le = LabelEncoder()\n",
    "df['SIDE_EFFECTS'] = le.fit_transform(df['SIDE_EFFECTS'])\n",
    "df['DRUG_NAME'] = le.fit_transform(df['DRUG_NAME'])\n",
    "\n"
   ]
  },
  {
   "cell_type": "code",
   "execution_count": 16,
   "id": "5f83add5",
   "metadata": {},
   "outputs": [],
   "source": [
    "df=pd.get_dummies(df,columns=['GENDER','RACE'])\n"
   ]
  },
  {
   "cell_type": "code",
   "execution_count": 17,
   "id": "94fa37a3",
   "metadata": {},
   "outputs": [
    {
     "data": {
      "text/html": [
       "<div>\n",
       "<style scoped>\n",
       "    .dataframe tbody tr th:only-of-type {\n",
       "        vertical-align: middle;\n",
       "    }\n",
       "\n",
       "    .dataframe tbody tr th {\n",
       "        vertical-align: top;\n",
       "    }\n",
       "\n",
       "    .dataframe thead th {\n",
       "        text-align: right;\n",
       "    }\n",
       "</style>\n",
       "<table border=\"1\" class=\"dataframe\">\n",
       "  <thead>\n",
       "    <tr style=\"text-align: right;\">\n",
       "      <th></th>\n",
       "      <th>DRUG_NAME</th>\n",
       "      <th>AGE</th>\n",
       "      <th>SIDE_EFFECTS</th>\n",
       "      <th>GENDER_F</th>\n",
       "      <th>GENDER_M</th>\n",
       "      <th>RACE_Asian Indian</th>\n",
       "      <th>RACE_Asian, Other</th>\n",
       "      <th>RACE_Black</th>\n",
       "      <th>RACE_Chinese</th>\n",
       "      <th>RACE_Hispanic, Black</th>\n",
       "      <th>RACE_Hispanic, White</th>\n",
       "      <th>RACE_Other</th>\n",
       "      <th>RACE_Unknown</th>\n",
       "      <th>RACE_White</th>\n",
       "    </tr>\n",
       "  </thead>\n",
       "  <tbody>\n",
       "    <tr>\n",
       "      <th>0</th>\n",
       "      <td>435</td>\n",
       "      <td>41.0</td>\n",
       "      <td>1</td>\n",
       "      <td>0</td>\n",
       "      <td>1</td>\n",
       "      <td>0</td>\n",
       "      <td>0</td>\n",
       "      <td>0</td>\n",
       "      <td>0</td>\n",
       "      <td>0</td>\n",
       "      <td>0</td>\n",
       "      <td>0</td>\n",
       "      <td>0</td>\n",
       "      <td>1</td>\n",
       "    </tr>\n",
       "    <tr>\n",
       "      <th>1</th>\n",
       "      <td>491</td>\n",
       "      <td>53.0</td>\n",
       "      <td>0</td>\n",
       "      <td>0</td>\n",
       "      <td>1</td>\n",
       "      <td>0</td>\n",
       "      <td>0</td>\n",
       "      <td>0</td>\n",
       "      <td>0</td>\n",
       "      <td>0</td>\n",
       "      <td>1</td>\n",
       "      <td>0</td>\n",
       "      <td>0</td>\n",
       "      <td>0</td>\n",
       "    </tr>\n",
       "    <tr>\n",
       "      <th>2</th>\n",
       "      <td>425</td>\n",
       "      <td>31.0</td>\n",
       "      <td>1</td>\n",
       "      <td>1</td>\n",
       "      <td>0</td>\n",
       "      <td>0</td>\n",
       "      <td>0</td>\n",
       "      <td>0</td>\n",
       "      <td>0</td>\n",
       "      <td>0</td>\n",
       "      <td>0</td>\n",
       "      <td>0</td>\n",
       "      <td>0</td>\n",
       "      <td>1</td>\n",
       "    </tr>\n",
       "    <tr>\n",
       "      <th>3</th>\n",
       "      <td>470</td>\n",
       "      <td>44.0</td>\n",
       "      <td>4</td>\n",
       "      <td>1</td>\n",
       "      <td>0</td>\n",
       "      <td>0</td>\n",
       "      <td>0</td>\n",
       "      <td>0</td>\n",
       "      <td>0</td>\n",
       "      <td>0</td>\n",
       "      <td>0</td>\n",
       "      <td>0</td>\n",
       "      <td>0</td>\n",
       "      <td>1</td>\n",
       "    </tr>\n",
       "    <tr>\n",
       "      <th>4</th>\n",
       "      <td>439</td>\n",
       "      <td>24.0</td>\n",
       "      <td>3</td>\n",
       "      <td>0</td>\n",
       "      <td>1</td>\n",
       "      <td>0</td>\n",
       "      <td>0</td>\n",
       "      <td>0</td>\n",
       "      <td>0</td>\n",
       "      <td>0</td>\n",
       "      <td>0</td>\n",
       "      <td>0</td>\n",
       "      <td>0</td>\n",
       "      <td>1</td>\n",
       "    </tr>\n",
       "  </tbody>\n",
       "</table>\n",
       "</div>"
      ],
      "text/plain": [
       "   DRUG_NAME   AGE  SIDE_EFFECTS  GENDER_F  GENDER_M  RACE_Asian Indian  \\\n",
       "0        435  41.0             1         0         1                  0   \n",
       "1        491  53.0             0         0         1                  0   \n",
       "2        425  31.0             1         1         0                  0   \n",
       "3        470  44.0             4         1         0                  0   \n",
       "4        439  24.0             3         0         1                  0   \n",
       "\n",
       "   RACE_Asian, Other  RACE_Black  RACE_Chinese  RACE_Hispanic, Black  \\\n",
       "0                  0           0             0                     0   \n",
       "1                  0           0             0                     0   \n",
       "2                  0           0             0                     0   \n",
       "3                  0           0             0                     0   \n",
       "4                  0           0             0                     0   \n",
       "\n",
       "   RACE_Hispanic, White  RACE_Other  RACE_Unknown  RACE_White  \n",
       "0                     0           0             0           1  \n",
       "1                     1           0             0           0  \n",
       "2                     0           0             0           1  \n",
       "3                     0           0             0           1  \n",
       "4                     0           0             0           1  "
      ]
     },
     "execution_count": 17,
     "metadata": {},
     "output_type": "execute_result"
    }
   ],
   "source": [
    "df.head()"
   ]
  },
  {
   "cell_type": "markdown",
   "id": "4ee180dc",
   "metadata": {},
   "source": [
    "# splitting\n"
   ]
  },
  {
   "cell_type": "code",
   "execution_count": 18,
   "id": "11e1f403",
   "metadata": {},
   "outputs": [],
   "source": [
    "X = df.drop(['SIDE_EFFECTS'], axis=1)\n",
    "y = df['SIDE_EFFECTS']\n"
   ]
  },
  {
   "cell_type": "code",
   "execution_count": 19,
   "id": "10de66b2",
   "metadata": {},
   "outputs": [],
   "source": [
    "from sklearn.model_selection import train_test_split\n",
    "X_train,X_test,y_train,y_test = train_test_split(X,y,random_state=42,test_size=0.2)\n"
   ]
  },
  {
   "cell_type": "code",
   "execution_count": 20,
   "id": "f02b28a1",
   "metadata": {},
   "outputs": [
    {
     "data": {
      "text/plain": [
       "(320000, 13)"
      ]
     },
     "execution_count": 20,
     "metadata": {},
     "output_type": "execute_result"
    }
   ],
   "source": [
    "X_train.shape\n"
   ]
  },
  {
   "cell_type": "code",
   "execution_count": 21,
   "id": "e76e0f6c",
   "metadata": {},
   "outputs": [
    {
     "data": {
      "text/plain": [
       "(80000, 13)"
      ]
     },
     "execution_count": 21,
     "metadata": {},
     "output_type": "execute_result"
    }
   ],
   "source": [
    "X_test.shape\n"
   ]
  },
  {
   "cell_type": "markdown",
   "id": "74019711",
   "metadata": {},
   "source": [
    "# Scaling\n"
   ]
  },
  {
   "cell_type": "code",
   "execution_count": 22,
   "id": "9456e7fa",
   "metadata": {
    "scrolled": true
   },
   "outputs": [
    {
     "data": {
      "text/html": [
       "<div>\n",
       "<style scoped>\n",
       "    .dataframe tbody tr th:only-of-type {\n",
       "        vertical-align: middle;\n",
       "    }\n",
       "\n",
       "    .dataframe tbody tr th {\n",
       "        vertical-align: top;\n",
       "    }\n",
       "\n",
       "    .dataframe thead th {\n",
       "        text-align: right;\n",
       "    }\n",
       "</style>\n",
       "<table border=\"1\" class=\"dataframe\">\n",
       "  <thead>\n",
       "    <tr style=\"text-align: right;\">\n",
       "      <th></th>\n",
       "      <th>DRUG_NAME</th>\n",
       "      <th>AGE</th>\n",
       "      <th>GENDER_F</th>\n",
       "      <th>GENDER_M</th>\n",
       "      <th>RACE_Asian Indian</th>\n",
       "      <th>RACE_Asian, Other</th>\n",
       "      <th>RACE_Black</th>\n",
       "      <th>RACE_Chinese</th>\n",
       "      <th>RACE_Hispanic, Black</th>\n",
       "      <th>RACE_Hispanic, White</th>\n",
       "      <th>RACE_Other</th>\n",
       "      <th>RACE_Unknown</th>\n",
       "      <th>RACE_White</th>\n",
       "    </tr>\n",
       "  </thead>\n",
       "  <tbody>\n",
       "    <tr>\n",
       "      <th>count</th>\n",
       "      <td>400000.000000</td>\n",
       "      <td>400000.000000</td>\n",
       "      <td>400000.000000</td>\n",
       "      <td>400000.000000</td>\n",
       "      <td>400000.000000</td>\n",
       "      <td>400000.00000</td>\n",
       "      <td>400000.000000</td>\n",
       "      <td>400000.000000</td>\n",
       "      <td>400000.000000</td>\n",
       "      <td>400000.000000</td>\n",
       "      <td>400000.000000</td>\n",
       "      <td>400000.000000</td>\n",
       "      <td>400000.000000</td>\n",
       "    </tr>\n",
       "    <tr>\n",
       "      <th>mean</th>\n",
       "      <td>267.086642</td>\n",
       "      <td>41.453493</td>\n",
       "      <td>0.594378</td>\n",
       "      <td>0.405622</td>\n",
       "      <td>0.000260</td>\n",
       "      <td>0.00042</td>\n",
       "      <td>0.089612</td>\n",
       "      <td>0.000020</td>\n",
       "      <td>0.004182</td>\n",
       "      <td>0.110180</td>\n",
       "      <td>0.002525</td>\n",
       "      <td>0.007615</td>\n",
       "      <td>0.785185</td>\n",
       "    </tr>\n",
       "    <tr>\n",
       "      <th>std</th>\n",
       "      <td>148.736770</td>\n",
       "      <td>12.339246</td>\n",
       "      <td>0.491013</td>\n",
       "      <td>0.491013</td>\n",
       "      <td>0.016122</td>\n",
       "      <td>0.02049</td>\n",
       "      <td>0.285626</td>\n",
       "      <td>0.004472</td>\n",
       "      <td>0.064537</td>\n",
       "      <td>0.313114</td>\n",
       "      <td>0.050186</td>\n",
       "      <td>0.086931</td>\n",
       "      <td>0.410694</td>\n",
       "    </tr>\n",
       "    <tr>\n",
       "      <th>min</th>\n",
       "      <td>0.000000</td>\n",
       "      <td>14.000000</td>\n",
       "      <td>0.000000</td>\n",
       "      <td>0.000000</td>\n",
       "      <td>0.000000</td>\n",
       "      <td>0.00000</td>\n",
       "      <td>0.000000</td>\n",
       "      <td>0.000000</td>\n",
       "      <td>0.000000</td>\n",
       "      <td>0.000000</td>\n",
       "      <td>0.000000</td>\n",
       "      <td>0.000000</td>\n",
       "      <td>0.000000</td>\n",
       "    </tr>\n",
       "    <tr>\n",
       "      <th>25%</th>\n",
       "      <td>139.000000</td>\n",
       "      <td>31.000000</td>\n",
       "      <td>0.000000</td>\n",
       "      <td>0.000000</td>\n",
       "      <td>0.000000</td>\n",
       "      <td>0.00000</td>\n",
       "      <td>0.000000</td>\n",
       "      <td>0.000000</td>\n",
       "      <td>0.000000</td>\n",
       "      <td>0.000000</td>\n",
       "      <td>0.000000</td>\n",
       "      <td>0.000000</td>\n",
       "      <td>1.000000</td>\n",
       "    </tr>\n",
       "    <tr>\n",
       "      <th>50%</th>\n",
       "      <td>280.000000</td>\n",
       "      <td>41.000000</td>\n",
       "      <td>1.000000</td>\n",
       "      <td>0.000000</td>\n",
       "      <td>0.000000</td>\n",
       "      <td>0.00000</td>\n",
       "      <td>0.000000</td>\n",
       "      <td>0.000000</td>\n",
       "      <td>0.000000</td>\n",
       "      <td>0.000000</td>\n",
       "      <td>0.000000</td>\n",
       "      <td>0.000000</td>\n",
       "      <td>1.000000</td>\n",
       "    </tr>\n",
       "    <tr>\n",
       "      <th>75%</th>\n",
       "      <td>395.000000</td>\n",
       "      <td>51.000000</td>\n",
       "      <td>1.000000</td>\n",
       "      <td>1.000000</td>\n",
       "      <td>0.000000</td>\n",
       "      <td>0.00000</td>\n",
       "      <td>0.000000</td>\n",
       "      <td>0.000000</td>\n",
       "      <td>0.000000</td>\n",
       "      <td>0.000000</td>\n",
       "      <td>0.000000</td>\n",
       "      <td>0.000000</td>\n",
       "      <td>1.000000</td>\n",
       "    </tr>\n",
       "    <tr>\n",
       "      <th>max</th>\n",
       "      <td>501.000000</td>\n",
       "      <td>81.000000</td>\n",
       "      <td>1.000000</td>\n",
       "      <td>1.000000</td>\n",
       "      <td>1.000000</td>\n",
       "      <td>1.00000</td>\n",
       "      <td>1.000000</td>\n",
       "      <td>1.000000</td>\n",
       "      <td>1.000000</td>\n",
       "      <td>1.000000</td>\n",
       "      <td>1.000000</td>\n",
       "      <td>1.000000</td>\n",
       "      <td>1.000000</td>\n",
       "    </tr>\n",
       "  </tbody>\n",
       "</table>\n",
       "</div>"
      ],
      "text/plain": [
       "           DRUG_NAME            AGE       GENDER_F       GENDER_M  \\\n",
       "count  400000.000000  400000.000000  400000.000000  400000.000000   \n",
       "mean      267.086642      41.453493       0.594378       0.405622   \n",
       "std       148.736770      12.339246       0.491013       0.491013   \n",
       "min         0.000000      14.000000       0.000000       0.000000   \n",
       "25%       139.000000      31.000000       0.000000       0.000000   \n",
       "50%       280.000000      41.000000       1.000000       0.000000   \n",
       "75%       395.000000      51.000000       1.000000       1.000000   \n",
       "max       501.000000      81.000000       1.000000       1.000000   \n",
       "\n",
       "       RACE_Asian Indian  RACE_Asian, Other     RACE_Black   RACE_Chinese  \\\n",
       "count      400000.000000       400000.00000  400000.000000  400000.000000   \n",
       "mean            0.000260            0.00042       0.089612       0.000020   \n",
       "std             0.016122            0.02049       0.285626       0.004472   \n",
       "min             0.000000            0.00000       0.000000       0.000000   \n",
       "25%             0.000000            0.00000       0.000000       0.000000   \n",
       "50%             0.000000            0.00000       0.000000       0.000000   \n",
       "75%             0.000000            0.00000       0.000000       0.000000   \n",
       "max             1.000000            1.00000       1.000000       1.000000   \n",
       "\n",
       "       RACE_Hispanic, Black  RACE_Hispanic, White     RACE_Other  \\\n",
       "count         400000.000000         400000.000000  400000.000000   \n",
       "mean               0.004182              0.110180       0.002525   \n",
       "std                0.064537              0.313114       0.050186   \n",
       "min                0.000000              0.000000       0.000000   \n",
       "25%                0.000000              0.000000       0.000000   \n",
       "50%                0.000000              0.000000       0.000000   \n",
       "75%                0.000000              0.000000       0.000000   \n",
       "max                1.000000              1.000000       1.000000   \n",
       "\n",
       "        RACE_Unknown     RACE_White  \n",
       "count  400000.000000  400000.000000  \n",
       "mean        0.007615       0.785185  \n",
       "std         0.086931       0.410694  \n",
       "min         0.000000       0.000000  \n",
       "25%         0.000000       1.000000  \n",
       "50%         0.000000       1.000000  \n",
       "75%         0.000000       1.000000  \n",
       "max         1.000000       1.000000  "
      ]
     },
     "execution_count": 22,
     "metadata": {},
     "output_type": "execute_result"
    }
   ],
   "source": [
    "X.describe()\n"
   ]
  },
  {
   "cell_type": "code",
   "execution_count": 23,
   "id": "5e2e1a26",
   "metadata": {},
   "outputs": [],
   "source": [
    "from sklearn.preprocessing import StandardScaler\n",
    "standardisation = StandardScaler()\n",
    "X_train = standardisation.fit_transform(X_train)\n",
    "X_test = standardisation.fit_transform(X_test)\n"
   ]
  },
  {
   "cell_type": "markdown",
   "id": "e9fa42b1",
   "metadata": {},
   "source": [
    "# LR\n"
   ]
  },
  {
   "cell_type": "code",
   "execution_count": null,
   "id": "1540866d",
   "metadata": {},
   "outputs": [],
   "source": []
  },
  {
   "cell_type": "code",
   "execution_count": 24,
   "id": "a3fae650",
   "metadata": {},
   "outputs": [],
   "source": [
    "from sklearn.linear_model import LogisticRegression\n",
    "logit_model = LogisticRegression()\n",
    "logit_model.fit(X_train,y_train)\n",
    "y_pred = logit_model.predict(X_test)\n"
   ]
  },
  {
   "cell_type": "code",
   "execution_count": 25,
   "id": "4837f6ac",
   "metadata": {
    "scrolled": true
   },
   "outputs": [
    {
     "name": "stdout",
     "output_type": "stream",
     "text": [
      "              precision    recall  f1-score   support\n",
      "\n",
      "           0       0.00      0.00      0.00      4552\n",
      "           1       0.34      0.82      0.48     26672\n",
      "           2       0.29      0.00      0.00     15068\n",
      "           3       0.32      0.20      0.25     23070\n",
      "           4       0.19      0.02      0.03     10638\n",
      "\n",
      "    accuracy                           0.33     80000\n",
      "   macro avg       0.23      0.21      0.15     80000\n",
      "weighted avg       0.29      0.33      0.24     80000\n",
      "\n"
     ]
    }
   ],
   "source": [
    "from sklearn.metrics import classification_report\n",
    "print(classification_report(y_test, y_pred))\n"
   ]
  },
  {
   "cell_type": "markdown",
   "id": "e53580e4",
   "metadata": {},
   "source": [
    "\n"
   ]
  },
  {
   "cell_type": "markdown",
   "id": "680cc116",
   "metadata": {},
   "source": [
    "# Decision tree\n"
   ]
  },
  {
   "cell_type": "code",
   "execution_count": 28,
   "id": "556c5106",
   "metadata": {},
   "outputs": [],
   "source": [
    "from sklearn.tree import DecisionTreeClassifier\n",
    "dt = DecisionTreeClassifier()\n",
    "dt.fit(X_train, y_train)\n",
    "y_pred = dt.predict(X_test)"
   ]
  },
  {
   "cell_type": "code",
   "execution_count": 29,
   "id": "f52aa032",
   "metadata": {
    "scrolled": true
   },
   "outputs": [
    {
     "name": "stdout",
     "output_type": "stream",
     "text": [
      "              precision    recall  f1-score   support\n",
      "\n",
      "           0       0.75      0.72      0.74      4552\n",
      "           1       0.81      0.82      0.81     26672\n",
      "           2       0.78      0.74      0.76     15068\n",
      "           3       0.78      0.81      0.79     23070\n",
      "           4       0.77      0.74      0.75     10638\n",
      "\n",
      "    accuracy                           0.79     80000\n",
      "   macro avg       0.78      0.77      0.77     80000\n",
      "weighted avg       0.79      0.79      0.79     80000\n",
      "\n"
     ]
    }
   ],
   "source": [
    "print(classification_report(y_test, y_pred))\n"
   ]
  },
  {
   "cell_type": "code",
   "execution_count": null,
   "id": "5204caec",
   "metadata": {},
   "outputs": [],
   "source": []
  },
  {
   "cell_type": "markdown",
   "id": "ec00c502",
   "metadata": {},
   "source": [
    "# Random Forest\n"
   ]
  },
  {
   "cell_type": "code",
   "execution_count": 26,
   "id": "6ce2da17",
   "metadata": {},
   "outputs": [],
   "source": [
    "from sklearn.ensemble import RandomForestClassifier\n",
    "rc = RandomForestClassifier()\n",
    "rc.fit(X_train, y_train)\n",
    "y_pred = rc.predict(X_test)\n"
   ]
  },
  {
   "cell_type": "code",
   "execution_count": 27,
   "id": "6d721f96",
   "metadata": {
    "scrolled": false
   },
   "outputs": [
    {
     "name": "stdout",
     "output_type": "stream",
     "text": [
      "              precision    recall  f1-score   support\n",
      "\n",
      "           0       0.90      0.86      0.88      4552\n",
      "           1       0.93      0.95      0.94     26672\n",
      "           2       0.95      0.89      0.92     15068\n",
      "           3       0.92      0.95      0.94     23070\n",
      "           4       0.91      0.88      0.89     10638\n",
      "\n",
      "    accuracy                           0.93     80000\n",
      "   macro avg       0.92      0.91      0.91     80000\n",
      "weighted avg       0.93      0.93      0.93     80000\n",
      "\n"
     ]
    }
   ],
   "source": [
    "print(classification_report(y_test, y_pred))\n"
   ]
  },
  {
   "cell_type": "code",
   "execution_count": null,
   "id": "106f02a2",
   "metadata": {},
   "outputs": [],
   "source": []
  },
  {
   "cell_type": "code",
   "execution_count": null,
   "id": "7ae6676d",
   "metadata": {},
   "outputs": [],
   "source": []
  }
 ],
 "metadata": {
  "kernelspec": {
   "display_name": "Python 3 (ipykernel)",
   "language": "python",
   "name": "python3"
  },
  "language_info": {
   "codemirror_mode": {
    "name": "ipython",
    "version": 3
   },
   "file_extension": ".py",
   "mimetype": "text/x-python",
   "name": "python",
   "nbconvert_exporter": "python",
   "pygments_lexer": "ipython3",
   "version": "3.9.7"
  }
 },
 "nbformat": 4,
 "nbformat_minor": 5
}
